{
 "cells": [
  {
   "cell_type": "code",
   "execution_count": 34,
   "metadata": {},
   "outputs": [],
   "source": [
    "import yfinance as yf\n",
    "import pandas as pd\n",
    "from sklearn.linear_model import LinearRegression\n",
    "import numpy as np"
   ]
  },
  {
   "cell_type": "code",
   "execution_count": 15,
   "metadata": {},
   "outputs": [],
   "source": [
    "msft = yf.Ticker(\"MSFT\")\n",
    "trgt = yf.Ticker(\"TGT\")\n"
   ]
  },
  {
   "cell_type": "code",
   "execution_count": 21,
   "metadata": {},
   "outputs": [],
   "source": [
    "msft_history = msft.history(period=\"1mo\")\n",
    "tgt_history = trgt.history(period=\"1mo\")  "
   ]
  },
  {
   "cell_type": "code",
   "execution_count": 17,
   "metadata": {},
   "outputs": [
    {
     "data": {
      "text/plain": [
       "{'address1': 'One Microsoft Way',\n",
       " 'city': 'Redmond',\n",
       " 'state': 'WA',\n",
       " 'zip': '98052-6399',\n",
       " 'country': 'United States',\n",
       " 'phone': '425 882 8080',\n",
       " 'website': 'https://www.microsoft.com',\n",
       " 'industry': 'Software - Infrastructure',\n",
       " 'industryKey': 'software-infrastructure',\n",
       " 'industryDisp': 'Software - Infrastructure',\n",
       " 'sector': 'Technology',\n",
       " 'sectorKey': 'technology',\n",
       " 'sectorDisp': 'Technology',\n",
       " 'longBusinessSummary': 'Microsoft Corporation develops and supports software, services, devices and solutions worldwide. The Productivity and Business Processes segment offers office, exchange, SharePoint, Microsoft Teams, office 365 Security and Compliance, Microsoft viva, and Microsoft 365 copilot; and office consumer services, such as Microsoft 365 consumer subscriptions, Office licensed on-premises, and other office services. This segment also provides LinkedIn; and dynamics business solutions, including Dynamics 365, a set of intelligent, cloud-based applications across ERP, CRM, power apps, and power automate; and on-premises ERP and CRM applications. The Intelligent Cloud segment offers server products and cloud services, such as azure and other cloud services; SQL and windows server, visual studio, system center, and related client access licenses, as well as nuance and GitHub; and enterprise services including enterprise support services, industry solutions, and nuance professional services. The More Personal Computing segment offers Windows, including windows OEM licensing and other non-volume licensing of the Windows operating system; Windows commercial comprising volume licensing of the Windows operating system, windows cloud services, and other Windows commercial offerings; patent licensing; and windows Internet of Things; and devices, such as surface, HoloLens, and PC accessories. Additionally, this segment provides gaming, which includes Xbox hardware and content, and first- and third-party content; Xbox game pass and other subscriptions, cloud gaming, advertising, third-party disc royalties, and other cloud services; and search and news advertising, which includes Bing, Microsoft News and Edge, and third-party affiliates. The company sells its products through OEMs, distributors, and resellers; and directly through digital marketplaces, online, and retail stores. The company was founded in 1975 and is headquartered in Redmond, Washington.',\n",
       " 'fullTimeEmployees': 221000,\n",
       " 'companyOfficers': [{'maxAge': 1,\n",
       "   'name': 'Mr. Satya  Nadella',\n",
       "   'age': 55,\n",
       "   'title': 'Chairman & CEO',\n",
       "   'yearBorn': 1967,\n",
       "   'fiscalYear': 2023,\n",
       "   'totalPay': 9276400,\n",
       "   'exercisedValue': 0,\n",
       "   'unexercisedValue': 0},\n",
       "  {'maxAge': 1,\n",
       "   'name': 'Mr. Bradford L. Smith LCA',\n",
       "   'age': 63,\n",
       "   'title': 'President & Vice Chairman',\n",
       "   'yearBorn': 1959,\n",
       "   'fiscalYear': 2023,\n",
       "   'totalPay': 3591277,\n",
       "   'exercisedValue': 0,\n",
       "   'unexercisedValue': 0},\n",
       "  {'maxAge': 1,\n",
       "   'name': 'Ms. Amy E. Hood',\n",
       "   'age': 50,\n",
       "   'title': 'Executive VP & CFO',\n",
       "   'yearBorn': 1972,\n",
       "   'fiscalYear': 2023,\n",
       "   'totalPay': 3452196,\n",
       "   'exercisedValue': 0,\n",
       "   'unexercisedValue': 0},\n",
       "  {'maxAge': 1,\n",
       "   'name': 'Mr. Judson B. Althoff',\n",
       "   'age': 49,\n",
       "   'title': 'Executive VP & Chief Commercial Officer',\n",
       "   'yearBorn': 1973,\n",
       "   'fiscalYear': 2023,\n",
       "   'totalPay': 3355797,\n",
       "   'exercisedValue': 0,\n",
       "   'unexercisedValue': 0},\n",
       "  {'maxAge': 1,\n",
       "   'name': 'Mr. Christopher David Young',\n",
       "   'age': 50,\n",
       "   'title': 'Executive Vice President of Business Development, Strategy & Ventures',\n",
       "   'yearBorn': 1972,\n",
       "   'fiscalYear': 2023,\n",
       "   'totalPay': 2460507,\n",
       "   'exercisedValue': 0,\n",
       "   'unexercisedValue': 0},\n",
       "  {'maxAge': 1,\n",
       "   'name': 'Ms. Alice L. Jolla',\n",
       "   'age': 55,\n",
       "   'title': 'Corporate VP & Chief Accounting Officer',\n",
       "   'yearBorn': 1967,\n",
       "   'fiscalYear': 2023,\n",
       "   'exercisedValue': 0,\n",
       "   'unexercisedValue': 0},\n",
       "  {'maxAge': 1,\n",
       "   'name': 'Mr. James Kevin Scott',\n",
       "   'age': 50,\n",
       "   'title': 'Executive VP of AI & CTO',\n",
       "   'yearBorn': 1972,\n",
       "   'fiscalYear': 2023,\n",
       "   'exercisedValue': 0,\n",
       "   'unexercisedValue': 0},\n",
       "  {'maxAge': 1,\n",
       "   'name': 'Brett  Iversen',\n",
       "   'title': 'Vice President of Investor Relations',\n",
       "   'fiscalYear': 2023,\n",
       "   'exercisedValue': 0,\n",
       "   'unexercisedValue': 0},\n",
       "  {'maxAge': 1,\n",
       "   'name': 'Mr. Hossein  Nowbar',\n",
       "   'title': 'Chief Legal Officer',\n",
       "   'fiscalYear': 2023,\n",
       "   'exercisedValue': 0,\n",
       "   'unexercisedValue': 0},\n",
       "  {'maxAge': 1,\n",
       "   'name': 'Mr. Frank X. Shaw',\n",
       "   'title': 'Chief Communications Officer',\n",
       "   'fiscalYear': 2023,\n",
       "   'exercisedValue': 0,\n",
       "   'unexercisedValue': 0}],\n",
       " 'auditRisk': 6,\n",
       " 'boardRisk': 4,\n",
       " 'compensationRisk': 2,\n",
       " 'shareHolderRightsRisk': 2,\n",
       " 'overallRisk': 2,\n",
       " 'governanceEpochDate': 1701388800,\n",
       " 'compensationAsOfEpochDate': 1703980800,\n",
       " 'maxAge': 86400,\n",
       " 'priceHint': 2,\n",
       " 'previousClose': 373.54,\n",
       " 'open': 373.68,\n",
       " 'dayLow': 372.72,\n",
       " 'dayHigh': 375.17,\n",
       " 'regularMarketPreviousClose': 373.54,\n",
       " 'regularMarketOpen': 373.68,\n",
       " 'regularMarketDayLow': 372.72,\n",
       " 'regularMarketDayHigh': 375.17,\n",
       " 'dividendRate': 3.0,\n",
       " 'dividendYield': 0.008,\n",
       " 'exDividendDate': 1707868800,\n",
       " 'payoutRatio': 0.2636,\n",
       " 'fiveYearAvgDividendYield': 1.01,\n",
       " 'beta': 0.897,\n",
       " 'trailingPE': 36.226303,\n",
       " 'forwardPE': 31.906303,\n",
       " 'volume': 17107484,\n",
       " 'regularMarketVolume': 17107484,\n",
       " 'averageVolume': 26280858,\n",
       " 'averageVolume10days': 30878070,\n",
       " 'averageDailyVolume10Day': 30878070,\n",
       " 'bid': 375.03,\n",
       " 'ask': 375.06,\n",
       " 'bidSize': 1000,\n",
       " 'askSize': 1000,\n",
       " 'marketCap': 2783975833600,\n",
       " 'fiftyTwoWeekLow': 219.35,\n",
       " 'fiftyTwoWeekHigh': 384.3,\n",
       " 'priceToSalesTrailing12Months': 12.752398,\n",
       " 'fiftyDayAverage': 360.0198,\n",
       " 'twoHundredDayAverage': 327.6906,\n",
       " 'trailingAnnualDividendRate': 2.79,\n",
       " 'trailingAnnualDividendYield': 0.0074690795,\n",
       " 'currency': 'USD',\n",
       " 'enterpriseValue': 2745712771072,\n",
       " 'profitMargins': 0.35314998,\n",
       " 'floatShares': 7425796261,\n",
       " 'sharesOutstanding': 7432260096,\n",
       " 'sharesShort': 49279547,\n",
       " 'sharesShortPriorMonth': 39562050,\n",
       " 'sharesShortPreviousMonthDate': 1698710400,\n",
       " 'dateShortInterest': 1701302400,\n",
       " 'sharesPercentSharesOut': 0.0066000004,\n",
       " 'heldPercentInsiders': 0.00055,\n",
       " 'heldPercentInstitutions': 0.73208,\n",
       " 'shortRatio': 1.87,\n",
       " 'shortPercentOfFloat': 0.0066000004,\n",
       " 'impliedSharesOutstanding': 7432260096,\n",
       " 'bookValue': 29.702,\n",
       " 'priceToBook': 12.611272,\n",
       " 'lastFiscalYearEnd': 1688083200,\n",
       " 'nextFiscalYearEnd': 1719705600,\n",
       " 'mostRecentQuarter': 1696032000,\n",
       " 'earningsQuarterlyGrowth': 0.27,\n",
       " 'netIncomeToCommon': 77096001536,\n",
       " 'trailingEps': 10.34,\n",
       " 'forwardEps': 11.74,\n",
       " 'pegRatio': 2.62,\n",
       " 'lastSplitFactor': '2:1',\n",
       " 'lastSplitDate': 1045526400,\n",
       " 'enterpriseToRevenue': 12.577,\n",
       " 'enterpriseToEbitda': 25.299,\n",
       " '52WeekChange': 0.5807731,\n",
       " 'SandP52WeekChange': 0.24166095,\n",
       " 'lastDividendValue': 0.75,\n",
       " 'lastDividendDate': 1700006400,\n",
       " 'exchange': 'NMS',\n",
       " 'quoteType': 'EQUITY',\n",
       " 'symbol': 'MSFT',\n",
       " 'underlyingSymbol': 'MSFT',\n",
       " 'shortName': 'Microsoft Corporation',\n",
       " 'longName': 'Microsoft Corporation',\n",
       " 'firstTradeDateEpochUtc': 511108200,\n",
       " 'timeZoneFullName': 'America/New_York',\n",
       " 'timeZoneShortName': 'EST',\n",
       " 'uuid': 'b004b3ec-de24-385e-b2c1-923f10d3fb62',\n",
       " 'messageBoardId': 'finmb_21835',\n",
       " 'gmtOffSetMilliseconds': -18000000,\n",
       " 'currentPrice': 374.58,\n",
       " 'targetHighPrice': 430.78,\n",
       " 'targetLowPrice': 258.47,\n",
       " 'targetMeanPrice': 369.13,\n",
       " 'targetMedianPrice': 376.36,\n",
       " 'recommendationMean': 1.7,\n",
       " 'recommendationKey': 'buy',\n",
       " 'numberOfAnalystOpinions': 47,\n",
       " 'totalCash': 143945007104,\n",
       " 'totalCashPerShare': 19.368,\n",
       " 'ebitda': 108530999296,\n",
       " 'totalDebt': 105681002496,\n",
       " 'quickRatio': 1.531,\n",
       " 'currentRatio': 1.663,\n",
       " 'totalRevenue': 218310000640,\n",
       " 'debtToEquity': 47.881,\n",
       " 'revenuePerShare': 29.347,\n",
       " 'returnOnAssets': 0.1457,\n",
       " 'returnOnEquity': 0.39106998,\n",
       " 'freeCashflow': 50418876416,\n",
       " 'operatingCashflow': 94966996992,\n",
       " 'earningsGrowth': 0.272,\n",
       " 'revenueGrowth': 0.128,\n",
       " 'grossMargins': 0.69441,\n",
       " 'ebitdaMargins': 0.49714002,\n",
       " 'operatingMargins': 0.47587,\n",
       " 'financialCurrency': 'USD',\n",
       " 'trailingPegRatio': 2.2344}"
      ]
     },
     "execution_count": 17,
     "metadata": {},
     "output_type": "execute_result"
    }
   ],
   "source": [
    "msft.info"
   ]
  },
  {
   "cell_type": "code",
   "execution_count": 22,
   "metadata": {},
   "outputs": [
    {
     "name": "stdout",
     "output_type": "stream",
     "text": [
      "                                 Open        High         Low       Close  \\\n",
      "Date                                                                        \n",
      "2023-11-24 00:00:00-05:00  377.329987  377.970001  375.140015  377.429993   \n",
      "2023-11-27 00:00:00-05:00  376.779999  380.640015  376.200012  378.609985   \n",
      "2023-11-28 00:00:00-05:00  378.350006  383.000000  378.160004  382.700012   \n",
      "2023-11-29 00:00:00-05:00  383.760010  384.299988  377.440002  378.850006   \n",
      "2023-11-30 00:00:00-05:00  378.489990  380.089996  375.470001  378.910004   \n",
      "2023-12-01 00:00:00-05:00  376.760010  378.160004  371.309998  374.510010   \n",
      "2023-12-04 00:00:00-05:00  369.100006  369.519989  362.899994  369.140015   \n",
      "2023-12-05 00:00:00-05:00  366.450012  373.079987  365.619995  372.519989   \n",
      "2023-12-06 00:00:00-05:00  373.540009  374.179993  368.029999  368.799988   \n",
      "2023-12-07 00:00:00-05:00  368.230011  371.450012  366.320007  370.950012   \n",
      "2023-12-08 00:00:00-05:00  369.200012  374.459991  368.230011  374.230011   \n",
      "2023-12-11 00:00:00-05:00  368.480011  371.600006  366.100006  371.299988   \n",
      "2023-12-12 00:00:00-05:00  370.850006  374.420013  370.459991  374.380005   \n",
      "2023-12-13 00:00:00-05:00  376.019989  377.640015  370.769989  374.369995   \n",
      "2023-12-14 00:00:00-05:00  373.309998  373.760010  364.130005  365.929993   \n",
      "2023-12-15 00:00:00-05:00  366.850006  372.399994  366.279999  370.730011   \n",
      "2023-12-18 00:00:00-05:00  369.450012  373.000000  368.679993  372.649994   \n",
      "2023-12-19 00:00:00-05:00  371.489990  373.260010  369.839996  373.260010   \n",
      "2023-12-20 00:00:00-05:00  375.000000  376.029999  370.529999  370.619995   \n",
      "2023-12-21 00:00:00-05:00  372.559998  374.410004  370.040009  373.540009   \n",
      "2023-12-22 00:00:00-05:00  373.679993  375.179993  372.709991  374.579987   \n",
      "\n",
      "                             Volume  Dividends  Stock Splits  \n",
      "Date                                                          \n",
      "2023-11-24 00:00:00-05:00  10176600        0.0           0.0  \n",
      "2023-11-27 00:00:00-05:00  22179200        0.0           0.0  \n",
      "2023-11-28 00:00:00-05:00  20453100        0.0           0.0  \n",
      "2023-11-29 00:00:00-05:00  28963400        0.0           0.0  \n",
      "2023-11-30 00:00:00-05:00  30554400        0.0           0.0  \n",
      "2023-12-01 00:00:00-05:00  33020400        0.0           0.0  \n",
      "2023-12-04 00:00:00-05:00  32063300        0.0           0.0  \n",
      "2023-12-05 00:00:00-05:00  23065000        0.0           0.0  \n",
      "2023-12-06 00:00:00-05:00  21182100        0.0           0.0  \n",
      "2023-12-07 00:00:00-05:00  23118900        0.0           0.0  \n",
      "2023-12-08 00:00:00-05:00  20144800        0.0           0.0  \n",
      "2023-12-11 00:00:00-05:00  27708800        0.0           0.0  \n",
      "2023-12-12 00:00:00-05:00  24838300        0.0           0.0  \n",
      "2023-12-13 00:00:00-05:00  30955500        0.0           0.0  \n",
      "2023-12-14 00:00:00-05:00  43277500        0.0           0.0  \n",
      "2023-12-15 00:00:00-05:00  78478200        0.0           0.0  \n",
      "2023-12-18 00:00:00-05:00  21802900        0.0           0.0  \n",
      "2023-12-19 00:00:00-05:00  20603700        0.0           0.0  \n",
      "2023-12-20 00:00:00-05:00  26316700        0.0           0.0  \n",
      "2023-12-21 00:00:00-05:00  17708000        0.0           0.0  \n",
      "2023-12-22 00:00:00-05:00  17091100        0.0           0.0  \n",
      "                                 Open        High         Low       Close  \\\n",
      "Date                                                                        \n",
      "2023-11-24 00:00:00-05:00  130.500000  131.470001  129.759995  131.460007   \n",
      "2023-11-27 00:00:00-05:00  131.149994  132.350006  130.250000  131.330002   \n",
      "2023-11-28 00:00:00-05:00  131.330002  131.800003  130.220001  131.669998   \n",
      "2023-11-29 00:00:00-05:00  131.960007  133.100006  131.169998  131.320007   \n",
      "2023-11-30 00:00:00-05:00  132.210007  133.960007  130.389999  133.809998   \n",
      "2023-12-01 00:00:00-05:00  133.399994  134.949997  132.509995  134.779999   \n",
      "2023-12-04 00:00:00-05:00  134.220001  136.240005  133.190002  133.710007   \n",
      "2023-12-05 00:00:00-05:00  133.320007  133.860001  132.500000  132.880005   \n",
      "2023-12-06 00:00:00-05:00  133.240005  133.990005  132.289993  133.380005   \n",
      "2023-12-07 00:00:00-05:00  134.600006  135.820007  134.130005  135.190002   \n",
      "2023-12-08 00:00:00-05:00  135.229996  136.399994  135.100006  135.190002   \n",
      "2023-12-11 00:00:00-05:00  136.110001  136.949997  135.490005  136.759995   \n",
      "2023-12-12 00:00:00-05:00  136.910004  136.910004  135.229996  135.660004   \n",
      "2023-12-13 00:00:00-05:00  136.000000  138.419998  134.699997  138.380005   \n",
      "2023-12-14 00:00:00-05:00  139.699997  142.199997  139.449997  141.139999   \n",
      "2023-12-15 00:00:00-05:00  141.100006  141.600006  138.210007  138.369995   \n",
      "2023-12-18 00:00:00-05:00  139.000000  139.149994  137.399994  137.720001   \n",
      "2023-12-19 00:00:00-05:00  138.000000  139.699997  137.899994  139.580002   \n",
      "2023-12-20 00:00:00-05:00  138.729996  138.869995  136.550003  136.899994   \n",
      "2023-12-21 00:00:00-05:00  137.949997  139.639999  137.289993  139.369995   \n",
      "2023-12-22 00:00:00-05:00  139.440002  140.419998  138.630005  140.199997   \n",
      "\n",
      "                            Volume  Dividends  Stock Splits  \n",
      "Date                                                         \n",
      "2023-11-24 00:00:00-05:00  1863100        0.0           0.0  \n",
      "2023-11-27 00:00:00-05:00  3736700        0.0           0.0  \n",
      "2023-11-28 00:00:00-05:00  3804900        0.0           0.0  \n",
      "2023-11-29 00:00:00-05:00  2918900        0.0           0.0  \n",
      "2023-11-30 00:00:00-05:00  5759500        0.0           0.0  \n",
      "2023-12-01 00:00:00-05:00  4593700        0.0           0.0  \n",
      "2023-12-04 00:00:00-05:00  7625100        0.0           0.0  \n",
      "2023-12-05 00:00:00-05:00  2997800        0.0           0.0  \n",
      "2023-12-06 00:00:00-05:00  3894200        0.0           0.0  \n",
      "2023-12-07 00:00:00-05:00  3939200        0.0           0.0  \n",
      "2023-12-08 00:00:00-05:00  2880500        0.0           0.0  \n",
      "2023-12-11 00:00:00-05:00  3571700        0.0           0.0  \n",
      "2023-12-12 00:00:00-05:00  3352100        0.0           0.0  \n",
      "2023-12-13 00:00:00-05:00  3531700        0.0           0.0  \n",
      "2023-12-14 00:00:00-05:00  4636400        0.0           0.0  \n",
      "2023-12-15 00:00:00-05:00  5679900        0.0           0.0  \n",
      "2023-12-18 00:00:00-05:00  3117000        0.0           0.0  \n",
      "2023-12-19 00:00:00-05:00  2834600        0.0           0.0  \n",
      "2023-12-20 00:00:00-05:00  3711700        0.0           0.0  \n",
      "2023-12-21 00:00:00-05:00  3980200        0.0           0.0  \n",
      "2023-12-22 00:00:00-05:00  3222800        0.0           0.0  \n"
     ]
    }
   ],
   "source": [
    "print(msft_history)"
   ]
  },
  {
   "cell_type": "code",
   "execution_count": 23,
   "metadata": {},
   "outputs": [
    {
     "name": "stdout",
     "output_type": "stream",
     "text": [
      "                                 Open        High         Low       Close  \\\n",
      "Date                                                                        \n",
      "2023-11-24 00:00:00-05:00  130.500000  131.470001  129.759995  131.460007   \n",
      "2023-11-27 00:00:00-05:00  131.149994  132.350006  130.250000  131.330002   \n",
      "2023-11-28 00:00:00-05:00  131.330002  131.800003  130.220001  131.669998   \n",
      "2023-11-29 00:00:00-05:00  131.960007  133.100006  131.169998  131.320007   \n",
      "2023-11-30 00:00:00-05:00  132.210007  133.960007  130.389999  133.809998   \n",
      "2023-12-01 00:00:00-05:00  133.399994  134.949997  132.509995  134.779999   \n",
      "2023-12-04 00:00:00-05:00  134.220001  136.240005  133.190002  133.710007   \n",
      "2023-12-05 00:00:00-05:00  133.320007  133.860001  132.500000  132.880005   \n",
      "2023-12-06 00:00:00-05:00  133.240005  133.990005  132.289993  133.380005   \n",
      "2023-12-07 00:00:00-05:00  134.600006  135.820007  134.130005  135.190002   \n",
      "2023-12-08 00:00:00-05:00  135.229996  136.399994  135.100006  135.190002   \n",
      "2023-12-11 00:00:00-05:00  136.110001  136.949997  135.490005  136.759995   \n",
      "2023-12-12 00:00:00-05:00  136.910004  136.910004  135.229996  135.660004   \n",
      "2023-12-13 00:00:00-05:00  136.000000  138.419998  134.699997  138.380005   \n",
      "2023-12-14 00:00:00-05:00  139.699997  142.199997  139.449997  141.139999   \n",
      "2023-12-15 00:00:00-05:00  141.100006  141.600006  138.210007  138.369995   \n",
      "2023-12-18 00:00:00-05:00  139.000000  139.149994  137.399994  137.720001   \n",
      "2023-12-19 00:00:00-05:00  138.000000  139.699997  137.899994  139.580002   \n",
      "2023-12-20 00:00:00-05:00  138.729996  138.869995  136.550003  136.899994   \n",
      "2023-12-21 00:00:00-05:00  137.949997  139.639999  137.289993  139.369995   \n",
      "2023-12-22 00:00:00-05:00  139.440002  140.419998  138.630005  140.199997   \n",
      "\n",
      "                            Volume  Dividends  Stock Splits  \n",
      "Date                                                         \n",
      "2023-11-24 00:00:00-05:00  1863100        0.0           0.0  \n",
      "2023-11-27 00:00:00-05:00  3736700        0.0           0.0  \n",
      "2023-11-28 00:00:00-05:00  3804900        0.0           0.0  \n",
      "2023-11-29 00:00:00-05:00  2918900        0.0           0.0  \n",
      "2023-11-30 00:00:00-05:00  5759500        0.0           0.0  \n",
      "2023-12-01 00:00:00-05:00  4593700        0.0           0.0  \n",
      "2023-12-04 00:00:00-05:00  7625100        0.0           0.0  \n",
      "2023-12-05 00:00:00-05:00  2997800        0.0           0.0  \n",
      "2023-12-06 00:00:00-05:00  3894200        0.0           0.0  \n",
      "2023-12-07 00:00:00-05:00  3939200        0.0           0.0  \n",
      "2023-12-08 00:00:00-05:00  2880500        0.0           0.0  \n",
      "2023-12-11 00:00:00-05:00  3571700        0.0           0.0  \n",
      "2023-12-12 00:00:00-05:00  3352100        0.0           0.0  \n",
      "2023-12-13 00:00:00-05:00  3531700        0.0           0.0  \n",
      "2023-12-14 00:00:00-05:00  4636400        0.0           0.0  \n",
      "2023-12-15 00:00:00-05:00  5679900        0.0           0.0  \n",
      "2023-12-18 00:00:00-05:00  3117000        0.0           0.0  \n",
      "2023-12-19 00:00:00-05:00  2834600        0.0           0.0  \n",
      "2023-12-20 00:00:00-05:00  3711700        0.0           0.0  \n",
      "2023-12-21 00:00:00-05:00  3980200        0.0           0.0  \n",
      "2023-12-22 00:00:00-05:00  3222800        0.0           0.0  \n"
     ]
    }
   ],
   "source": [
    "print(tgt_history)"
   ]
  },
  {
   "cell_type": "code",
   "execution_count": 25,
   "metadata": {},
   "outputs": [
    {
     "name": "stdout",
     "output_type": "stream",
     "text": [
      "Empty DataFrame\n",
      "Columns: []\n",
      "Index: []\n"
     ]
    }
   ],
   "source": [
    "price_history = pd.DataFrame()\n",
    "print(price_history)\n"
   ]
  },
  {
   "cell_type": "code",
   "execution_count": 26,
   "metadata": {},
   "outputs": [],
   "source": [
    "price_history['MSFT'] = msft_history['Close']\n",
    "price_history['TGT'] = tgt_history['Volume']\n"
   ]
  },
  {
   "cell_type": "code",
   "execution_count": 27,
   "metadata": {},
   "outputs": [
    {
     "name": "stdout",
     "output_type": "stream",
     "text": [
      "                                 MSFT      TGT\n",
      "Date                                          \n",
      "2023-11-24 00:00:00-05:00  377.429993  1863100\n",
      "2023-11-27 00:00:00-05:00  378.609985  3736700\n",
      "2023-11-28 00:00:00-05:00  382.700012  3804900\n",
      "2023-11-29 00:00:00-05:00  378.850006  2918900\n",
      "2023-11-30 00:00:00-05:00  378.910004  5759500\n",
      "2023-12-01 00:00:00-05:00  374.510010  4593700\n",
      "2023-12-04 00:00:00-05:00  369.140015  7625100\n",
      "2023-12-05 00:00:00-05:00  372.519989  2997800\n",
      "2023-12-06 00:00:00-05:00  368.799988  3894200\n",
      "2023-12-07 00:00:00-05:00  370.950012  3939200\n",
      "2023-12-08 00:00:00-05:00  374.230011  2880500\n",
      "2023-12-11 00:00:00-05:00  371.299988  3571700\n",
      "2023-12-12 00:00:00-05:00  374.380005  3352100\n",
      "2023-12-13 00:00:00-05:00  374.369995  3531700\n",
      "2023-12-14 00:00:00-05:00  365.929993  4636400\n",
      "2023-12-15 00:00:00-05:00  370.730011  5679900\n",
      "2023-12-18 00:00:00-05:00  372.649994  3117000\n",
      "2023-12-19 00:00:00-05:00  373.260010  2834600\n",
      "2023-12-20 00:00:00-05:00  370.619995  3711700\n",
      "2023-12-21 00:00:00-05:00  373.540009  3980200\n",
      "2023-12-22 00:00:00-05:00  374.579987  3222800\n"
     ]
    }
   ],
   "source": [
    "print(price_history)"
   ]
  },
  {
   "cell_type": "code",
   "execution_count": 29,
   "metadata": {},
   "outputs": [],
   "source": [
    "mod = LinearRegression()\n"
   ]
  },
  {
   "cell_type": "code",
   "execution_count": 35,
   "metadata": {},
   "outputs": [],
   "source": [
    "x = price_history['TGT'].values.reshape(-1, 1)\n",
    "y = price_history['MSFT'].values.reshape(-1, 1)"
   ]
  },
  {
   "cell_type": "code",
   "execution_count": 36,
   "metadata": {},
   "outputs": [
    {
     "data": {
      "text/html": [
       "<style>#sk-container-id-1 {color: black;}#sk-container-id-1 pre{padding: 0;}#sk-container-id-1 div.sk-toggleable {background-color: white;}#sk-container-id-1 label.sk-toggleable__label {cursor: pointer;display: block;width: 100%;margin-bottom: 0;padding: 0.3em;box-sizing: border-box;text-align: center;}#sk-container-id-1 label.sk-toggleable__label-arrow:before {content: \"▸\";float: left;margin-right: 0.25em;color: #696969;}#sk-container-id-1 label.sk-toggleable__label-arrow:hover:before {color: black;}#sk-container-id-1 div.sk-estimator:hover label.sk-toggleable__label-arrow:before {color: black;}#sk-container-id-1 div.sk-toggleable__content {max-height: 0;max-width: 0;overflow: hidden;text-align: left;background-color: #f0f8ff;}#sk-container-id-1 div.sk-toggleable__content pre {margin: 0.2em;color: black;border-radius: 0.25em;background-color: #f0f8ff;}#sk-container-id-1 input.sk-toggleable__control:checked~div.sk-toggleable__content {max-height: 200px;max-width: 100%;overflow: auto;}#sk-container-id-1 input.sk-toggleable__control:checked~label.sk-toggleable__label-arrow:before {content: \"▾\";}#sk-container-id-1 div.sk-estimator input.sk-toggleable__control:checked~label.sk-toggleable__label {background-color: #d4ebff;}#sk-container-id-1 div.sk-label input.sk-toggleable__control:checked~label.sk-toggleable__label {background-color: #d4ebff;}#sk-container-id-1 input.sk-hidden--visually {border: 0;clip: rect(1px 1px 1px 1px);clip: rect(1px, 1px, 1px, 1px);height: 1px;margin: -1px;overflow: hidden;padding: 0;position: absolute;width: 1px;}#sk-container-id-1 div.sk-estimator {font-family: monospace;background-color: #f0f8ff;border: 1px dotted black;border-radius: 0.25em;box-sizing: border-box;margin-bottom: 0.5em;}#sk-container-id-1 div.sk-estimator:hover {background-color: #d4ebff;}#sk-container-id-1 div.sk-parallel-item::after {content: \"\";width: 100%;border-bottom: 1px solid gray;flex-grow: 1;}#sk-container-id-1 div.sk-label:hover label.sk-toggleable__label {background-color: #d4ebff;}#sk-container-id-1 div.sk-serial::before {content: \"\";position: absolute;border-left: 1px solid gray;box-sizing: border-box;top: 0;bottom: 0;left: 50%;z-index: 0;}#sk-container-id-1 div.sk-serial {display: flex;flex-direction: column;align-items: center;background-color: white;padding-right: 0.2em;padding-left: 0.2em;position: relative;}#sk-container-id-1 div.sk-item {position: relative;z-index: 1;}#sk-container-id-1 div.sk-parallel {display: flex;align-items: stretch;justify-content: center;background-color: white;position: relative;}#sk-container-id-1 div.sk-item::before, #sk-container-id-1 div.sk-parallel-item::before {content: \"\";position: absolute;border-left: 1px solid gray;box-sizing: border-box;top: 0;bottom: 0;left: 50%;z-index: -1;}#sk-container-id-1 div.sk-parallel-item {display: flex;flex-direction: column;z-index: 1;position: relative;background-color: white;}#sk-container-id-1 div.sk-parallel-item:first-child::after {align-self: flex-end;width: 50%;}#sk-container-id-1 div.sk-parallel-item:last-child::after {align-self: flex-start;width: 50%;}#sk-container-id-1 div.sk-parallel-item:only-child::after {width: 0;}#sk-container-id-1 div.sk-dashed-wrapped {border: 1px dashed gray;margin: 0 0.4em 0.5em 0.4em;box-sizing: border-box;padding-bottom: 0.4em;background-color: white;}#sk-container-id-1 div.sk-label label {font-family: monospace;font-weight: bold;display: inline-block;line-height: 1.2em;}#sk-container-id-1 div.sk-label-container {text-align: center;}#sk-container-id-1 div.sk-container {/* jupyter's `normalize.less` sets `[hidden] { display: none; }` but bootstrap.min.css set `[hidden] { display: none !important; }` so we also need the `!important` here to be able to override the default hidden behavior on the sphinx rendered scikit-learn.org. See: https://github.com/scikit-learn/scikit-learn/issues/21755 */display: inline-block !important;position: relative;}#sk-container-id-1 div.sk-text-repr-fallback {display: none;}</style><div id=\"sk-container-id-1\" class=\"sk-top-container\"><div class=\"sk-text-repr-fallback\"><pre>LinearRegression()</pre><b>In a Jupyter environment, please rerun this cell to show the HTML representation or trust the notebook. <br />On GitHub, the HTML representation is unable to render, please try loading this page with nbviewer.org.</b></div><div class=\"sk-container\" hidden><div class=\"sk-item\"><div class=\"sk-estimator sk-toggleable\"><input class=\"sk-toggleable__control sk-hidden--visually\" id=\"sk-estimator-id-1\" type=\"checkbox\" checked><label for=\"sk-estimator-id-1\" class=\"sk-toggleable__label sk-toggleable__label-arrow\">LinearRegression</label><div class=\"sk-toggleable__content\"><pre>LinearRegression()</pre></div></div></div></div></div>"
      ],
      "text/plain": [
       "LinearRegression()"
      ]
     },
     "execution_count": 36,
     "metadata": {},
     "output_type": "execute_result"
    }
   ],
   "source": [
    "mod.fit(x,y)"
   ]
  },
  {
   "cell_type": "code",
   "execution_count": 37,
   "metadata": {},
   "outputs": [
    {
     "data": {
      "text/plain": [
       "0.0923408172711715"
      ]
     },
     "execution_count": 37,
     "metadata": {},
     "output_type": "execute_result"
    }
   ],
   "source": [
    "mod.score(x,y)"
   ]
  },
  {
   "cell_type": "code",
   "execution_count": 1,
   "metadata": {},
   "outputs": [
    {
     "ename": "NameError",
     "evalue": "name 'mod' is not defined",
     "output_type": "error",
     "traceback": [
      "\u001b[0;31m---------------------------------------------------------------------------\u001b[0m",
      "\u001b[0;31mNameError\u001b[0m                                 Traceback (most recent call last)",
      "Cell \u001b[0;32mIn[1], line 1\u001b[0m\n\u001b[0;32m----> 1\u001b[0m \u001b[43mmod\u001b[49m\u001b[38;5;241m.\u001b[39mpredict(np\u001b[38;5;241m.\u001b[39marray([\u001b[38;5;241m200000000\u001b[39m])\u001b[38;5;241m.\u001b[39mreshape(\u001b[38;5;241m-\u001b[39m\u001b[38;5;241m1\u001b[39m, \u001b[38;5;241m1\u001b[39m))\n",
      "\u001b[0;31mNameError\u001b[0m: name 'mod' is not defined"
     ]
    }
   ],
   "source": [
    "mod.predict(np.array([200000000]).reshape(-1, 1))"
   ]
  },
  {
   "cell_type": "code",
   "execution_count": null,
   "metadata": {},
   "outputs": [],
   "source": []
  }
 ],
 "metadata": {
  "kernelspec": {
   "display_name": "Python 3",
   "language": "python",
   "name": "python3"
  },
  "language_info": {
   "codemirror_mode": {
    "name": "ipython",
    "version": 3
   },
   "file_extension": ".py",
   "mimetype": "text/x-python",
   "name": "python",
   "nbconvert_exporter": "python",
   "pygments_lexer": "ipython3",
   "version": "3.11.5"
  },
  "orig_nbformat": 4
 },
 "nbformat": 4,
 "nbformat_minor": 2
}
